{
 "cells": [
  {
   "cell_type": "code",
   "execution_count": 1,
   "metadata": {},
   "outputs": [],
   "source": [
    "import pandas as pd\n",
    "import numpy as np"
   ]
  },
  {
   "cell_type": "markdown",
   "metadata": {},
   "source": [
    "## Read in the files\n"
   ]
  },
  {
   "cell_type": "markdown",
   "metadata": {},
   "source": [
    "#### Setting up file iteration\n",
    "We need to be able to create, write, and close files as we iterate through different experiments and trials. Experiments range from 1 to 24, and each experiment is comprised of 8 different $d_1$ and $d_2$ parameter combinations. For each combination, there are 25 trials. "
   ]
  },
  {
   "cell_type": "code",
   "execution_count": 2,
   "metadata": {},
   "outputs": [],
   "source": [
    "#We have experiments ranging from expr1 to expr24\n",
    "Expr_Count = 1\n",
    "#There are 200 trials in each. We care specifically about trials 76-100 for these plots \n",
    "    #These trials correspond to d1 = 0.5 and d2 = 0.5\n",
    "Trial_Count = 0\n",
    "\n",
    "# Read the file that was output when the experiment was run. \n",
    "    #The distributions were saved in two separate files for type 0 and type 1. \n",
    "exprFileName_ZERO = \"opinion_prop/expr\"+str(Expr_Count)+\"_trackTypeZero.txt\"\n",
    "exprFile = open(exprFileName_ZERO, \"r\")\n",
    "\n",
    "\n",
    "tempName = \"opinion_prop/TypeZeroFiles_AAMAS/expr\"+str(Expr_Count)+\"_trial\"+str(Trial_Count)+\".txt\"\n",
    "tempFileWrite = open(tempName, \"w\")\n",
    "\n",
    "        \n"
   ]
  },
  {
   "cell_type": "code",
   "execution_count": 3,
   "metadata": {},
   "outputs": [],
   "source": [
    "#While we still have experiments to run through\n",
    "Expr_Count = 1\n",
    "while Expr_Count <= 24:\n",
    "\n",
    "    exprFileName_ZERO = \"opinion_prop/expr\"+str(Expr_Count)+\"_trackTypeZero.txt\"\n",
    "    exprFile = open(exprFileName_ZERO, \"r\")\n",
    "\n",
    "    Trial_Count = 0\n",
    "\n",
    "    tempName = \"opinion_prop/TypeZeroFiles_AAMAS/expr\"+str(Expr_Count)+\"_trial\"+str(Trial_Count)+\"_ZERO.txt\"\n",
    "    tempFileWrite = open(tempName, \"w\")\n",
    "\n",
    "    for line in exprFile:\n",
    "        #D1 in the line signals we are starting a new trial\n",
    "        if \"d1\" in line:\n",
    "            #Close the previous file\n",
    "            tempFileWrite.close()\n",
    "\n",
    "            #Advance to the next trial, create and open a new file for the next trial\n",
    "            Trial_Count += 1\n",
    "            if 75 < Trial_Count < 101:\n",
    "                tempName = \"opinion_prop/TypeZeroFiles_AAMAS/necessary/expr\"+str(Expr_Count)+\"_trial\"+str(Trial_Count)+\"_ZERO.txt\"\n",
    "                tempFileWrite = open(tempName, \"w\")\n",
    "            else: \n",
    "                tempName = \"opinion_prop/TypeZeroFiles_AAMAS/unnecessary/expr\"+str(Expr_Count)+\"_trial\"+str(Trial_Count)+\"_ZERO.txt\"\n",
    "                tempFileWrite = open(tempName, \"w\")\n",
    "        else: \n",
    "            # Otherwise, just write the line to the current file\n",
    "            tempFileWrite.write(line)\n",
    "\n",
    "    Expr_Count += 1\n"
   ]
  },
  {
   "cell_type": "code",
   "execution_count": 4,
   "metadata": {},
   "outputs": [],
   "source": [
    "## Do the same thing for the Type 1 Files\n",
    "#While we still have experiments to run through\n",
    "Expr_Count = 1\n",
    "while Expr_Count <= 24:\n",
    "\n",
    "    exprFileName_ONE = \"opinion_prop/expr\"+str(Expr_Count)+\"_trackTypeOne.txt\"\n",
    "    exprFile = open(exprFileName_ONE, \"r\")\n",
    "\n",
    "    Trial_Count = 0\n",
    "\n",
    "    tempName = \"opinion_prop/TypeZeroFiles_AAMAS/expr\"+str(Expr_Count)+\"_trial\"+str(Trial_Count)+\"_ONE.txt\"\n",
    "    tempFileWrite = open(tempName, \"w\")\n",
    "\n",
    "    for line in exprFile:\n",
    "        #D1 in the line signals we are starting a new trial\n",
    "        if \"d1\" in line:\n",
    "            #Close the previous file\n",
    "            tempFileWrite.close()\n",
    "\n",
    "            #Advance to the next trial, create and open a new file for the next trial\n",
    "            Trial_Count += 1\n",
    "            if 75 < Trial_Count < 101:\n",
    "                tempName = \"opinion_prop/TypeZeroFiles_AAMAS/necessary/expr\"+str(Expr_Count)+\"_trial\"+str(Trial_Count)+\"_ONE.txt\"\n",
    "                tempFileWrite = open(tempName, \"w\")\n",
    "            else: \n",
    "                tempName = \"opinion_prop/TypeZeroFiles_AAMAS/unnecessary/expr\"+str(Expr_Count)+\"_trial\"+str(Trial_Count)+\"_ONE.txt\"\n",
    "                tempFileWrite = open(tempName, \"w\")\n",
    "        else: \n",
    "            # Otherwise, just write the line to the current file\n",
    "            tempFileWrite.write(line)\n",
    "    # Move to the next experiment\n",
    "    Expr_Count += 1\n"
   ]
  },
  {
   "cell_type": "code",
   "execution_count": null,
   "metadata": {},
   "outputs": [],
   "source": []
  }
 ],
 "metadata": {
  "kernelspec": {
   "display_name": "Python 3",
   "language": "python",
   "name": "python3"
  },
  "language_info": {
   "codemirror_mode": {
    "name": "ipython",
    "version": 3
   },
   "file_extension": ".py",
   "mimetype": "text/x-python",
   "name": "python",
   "nbconvert_exporter": "python",
   "pygments_lexer": "ipython3",
   "version": "3.11.0"
  }
 },
 "nbformat": 4,
 "nbformat_minor": 2
}
